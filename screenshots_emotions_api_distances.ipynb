{
 "cells": [
  {
   "cell_type": "markdown",
   "metadata": {},
   "source": [
    "### Gets a screenshot every \"x\" seconds"
   ]
  },
  {
   "cell_type": "code",
   "execution_count": null,
   "metadata": {
    "collapsed": false
   },
   "outputs": [],
   "source": [
    "import pyscreenshot as ImageGrab\n",
    "import datetime\n",
    "import time\n",
    "\n",
    "for t in range(1,20):\n",
    "    current_time = datetime.datetime.now().strftime(\"%Y%m%d_%H_%M_%S\")\n",
    "    print('capture'+current_time+'.jpg')\n",
    "    im=ImageGrab.grab(bbox=(300,130,1180,630)) # X1,Y1,X2,Y2\n",
    "    im.save('capture'+current_time+'.jpg')\n",
    "    time.sleep(1)"
   ]
  },
  {
   "cell_type": "markdown",
   "metadata": {},
   "source": [
    "### Calls API to get Emotion Vector"
   ]
  },
  {
   "cell_type": "code",
   "execution_count": null,
   "metadata": {
    "collapsed": false
   },
   "outputs": [],
   "source": [
    "import http.client, urllib.request, urllib.parse, urllib.error, base64, json\n",
    "\n",
    "url = 'https://encrypted-tbn0.gstatic.com/images?q=tbn:ANd9GcQk0-sGWCvtyGz-RuW91CidTZOXHqDhofKQtgMNJQNlt06XSbJ9-uC3Gis'\n",
    "\n",
    "headers = {\n",
    "    # Request headers\n",
    "    'Content-Type': 'application/json',\n",
    "    'Ocp-Apim-Subscription-Key': '2750c64f4fcd4c398aac157a5d77c675',\n",
    "}\n",
    "\n",
    "\n",
    "body = {\n",
    "    'url': url,\n",
    "}\n",
    "params = urllib.parse.urlencode({\n",
    "    # Request parameters\n",
    "    'faceRectangles': '{string}',\n",
    "})\n",
    "try:\n",
    "    conn = http.client.HTTPSConnection('api.projectoxford.ai')\n",
    "    conn.request(\"POST\", \"/emotion/v1.0/recognize\", json.dumps(body), headers)\n",
    "    response = conn.getresponse()\n",
    "    data = response.read()\n",
    "    print(data)\n",
    "    conn.close()\n",
    "except Exception as e:\n",
    "    print(e.message)"
   ]
  },
  {
   "cell_type": "markdown",
   "metadata": {
    "collapsed": true
   },
   "source": [
    "## Generates image frames from a video"
   ]
  },
  {
   "cell_type": "code",
   "execution_count": 138,
   "metadata": {
    "collapsed": false,
    "scrolled": true
   },
   "outputs": [
    {
     "name": "stderr",
     "output_type": "stream",
     "text": [
      "WARNING:py.warnings:C:\\Anaconda3\\lib\\site-packages\\skimage\\filter\\__init__.py:6: skimage_deprecation: The `skimage.filter` module has been renamed to `skimage.filters`.  This placeholder module will be removed in v0.13.\n",
      "  warn(skimage_deprecation('The `skimage.filter` module has been renamed '\n",
      "\n"
     ]
    },
    {
     "name": "stdout",
     "output_type": "stream",
     "text": [
      ".\\reactions\\pics\\danielle.mov_1_0.jpeg\n",
      ".\\reactions\\pics\\danielle.mov_1_1.jpeg\n",
      ".\\reactions\\pics\\danielle.mov_1_2.jpeg\n",
      ".\\reactions\\pics\\danielle.mov_1_3.jpeg\n",
      ".\\reactions\\pics\\danielle.mov_1_4.jpeg\n",
      ".\\reactions\\pics\\danielle.mov_1_5.jpeg\n",
      ".\\reactions\\pics\\danielle.mov_1_6.jpeg\n",
      ".\\reactions\\pics\\danielle.mov_1_7.jpeg\n",
      ".\\reactions\\pics\\danielle.mov_1_8.jpeg\n",
      ".\\reactions\\pics\\danielle.mov_1_9.jpeg\n",
      ".\\reactions\\pics\\danielle.mov_1_10.jpeg\n",
      ".\\reactions\\pics\\danielle.mov_1_11.jpeg\n",
      ".\\reactions\\pics\\danielle.mov_1_12.jpeg\n",
      ".\\reactions\\pics\\danielle.mov_1_13.jpeg\n",
      ".\\reactions\\pics\\danielle.mov_1_14.jpeg\n",
      ".\\reactions\\pics\\danielle.mov_1_15.jpeg\n",
      ".\\reactions\\pics\\danielle.mov_1_16.jpeg\n",
      ".\\reactions\\pics\\danielle.mov_1_17.jpeg\n",
      ".\\reactions\\pics\\danielle.mov_1_18.jpeg\n",
      ".\\reactions\\pics\\danielle.mov_1_19.jpeg\n",
      ".\\reactions\\pics\\danielle.mov_1_20.jpeg\n",
      ".\\reactions\\pics\\danielle.mov_1_21.jpeg\n",
      ".\\reactions\\pics\\danielle.mov_1_22.jpeg\n",
      ".\\reactions\\pics\\danielle.mov_1_23.jpeg\n",
      ".\\reactions\\pics\\danielle.mov_1_24.jpeg\n",
      ".\\reactions\\pics\\danielle.mov_1_25.jpeg\n",
      ".\\reactions\\pics\\danielle.mov_1_26.jpeg\n",
      ".\\reactions\\pics\\danielle.mov_1_27.jpeg\n"
     ]
    }
   ],
   "source": [
    "import os, sys\n",
    "from moviepy.editor import *\n",
    "#from IPython.display import Image\n",
    "import math\n",
    "from PIL import Image\n",
    "\n",
    "\n",
    "i = 1\n",
    "for video_filename in os.listdir('.\\\\reactions\\\\'):\n",
    "    if video_filename == \"danielle.mov\":\n",
    "        try:\n",
    "            myclip = VideoFileClip('.\\\\reactions\\\\'+video_filename)\n",
    "            duration = math.trunc(myclip.duration)\n",
    "        except:\n",
    "            continue\n",
    "        \n",
    "        for t in range(duration+1):\n",
    "            photo_filename = \".\\\\reactions\\\\pics\\\\\"+video_filename+\"_\"+str(i)+\"_\"+str(t)+\".jpeg\"\n",
    "            print(photo_filename)\n",
    "            myclip.save_frame(photo_filename, '00:00:0'+str(t)) # frame at second t\n",
    "            im = Image.open(photo_filename)\n",
    "            out = im.transpose(Image.ROTATE_270)\n",
    "            out.save(photo_filename)\n",
    "    i=i+1"
   ]
  },
  {
   "cell_type": "markdown",
   "metadata": {
    "collapsed": true
   },
   "source": [
    "### MongoDB connection"
   ]
  },
  {
   "cell_type": "code",
   "execution_count": 171,
   "metadata": {
    "collapsed": false,
    "scrolled": false
   },
   "outputs": [
    {
     "name": "stdout",
     "output_type": "stream",
     "text": [
      "Memes count:22\n",
      "Photos count:17\n",
      "\n",
      "Image 0. Similarity Points: 0.4445\n"
     ]
    },
    {
     "data": {
      "text/html": [
       "<img src=\"http://res.cloudinary.com/reeact/image/upload/yfuwqexsrqxfn9aa5kgy.jpg\"/>"
      ],
      "text/plain": [
       "<IPython.core.display.Image object>"
      ]
     },
     "metadata": {},
     "output_type": "display_data"
    },
    {
     "data": {
      "text/html": [
       "<img src=\"https://encrypted-tbn0.gstatic.com/images?q=tbn:ANd9GcRHhRu0SdQ2XwLzoYAXB7vK21tTLyIHGpQcaWGzxqnmwoADyMxtPlG-mC59\" width=\"350\" height=\"350\"/>"
      ],
      "text/plain": [
       "<IPython.core.display.Image object>"
      ]
     },
     "metadata": {},
     "output_type": "display_data"
    },
    {
     "name": "stdout",
     "output_type": "stream",
     "text": [
      "-----------------\n",
      "Image 1. Similarity Points: 1.0\n"
     ]
    },
    {
     "data": {
      "text/html": [
       "<img src=\"http://res.cloudinary.com/reeact/image/upload/ga6owmylies8nqpx1dc1.jpg\"/>"
      ],
      "text/plain": [
       "<IPython.core.display.Image object>"
      ]
     },
     "metadata": {},
     "output_type": "display_data"
    },
    {
     "data": {
      "text/html": [
       "<img src=\"https://encrypted-tbn2.gstatic.com/images?q=tbn:ANd9GcS_ZqAyIWY54cXB1-LPact66TTKL1IRLNfGJjobl9Od45tQGw5n3q8hKWn1\" width=\"350\" height=\"350\"/>"
      ],
      "text/plain": [
       "<IPython.core.display.Image object>"
      ]
     },
     "metadata": {},
     "output_type": "display_data"
    },
    {
     "name": "stdout",
     "output_type": "stream",
     "text": [
      "-----------------\n",
      "Image 2. Similarity Points: 1.0\n"
     ]
    },
    {
     "data": {
      "text/html": [
       "<img src=\"http://res.cloudinary.com/reeact/image/upload/oyiphhpmyd9rpb890pjf.jpg\"/>"
      ],
      "text/plain": [
       "<IPython.core.display.Image object>"
      ]
     },
     "metadata": {},
     "output_type": "display_data"
    },
    {
     "data": {
      "text/html": [
       "<img src=\"https://encrypted-tbn2.gstatic.com/images?q=tbn:ANd9GcS_ZqAyIWY54cXB1-LPact66TTKL1IRLNfGJjobl9Od45tQGw5n3q8hKWn1\" width=\"350\" height=\"350\"/>"
      ],
      "text/plain": [
       "<IPython.core.display.Image object>"
      ]
     },
     "metadata": {},
     "output_type": "display_data"
    },
    {
     "name": "stdout",
     "output_type": "stream",
     "text": [
      "-----------------\n",
      "Image 3. Similarity Points: 0.9962\n"
     ]
    },
    {
     "data": {
      "text/html": [
       "<img src=\"http://res.cloudinary.com/reeact/image/upload/ufvyowcsp5wfxhy7czpl.jpg\"/>"
      ],
      "text/plain": [
       "<IPython.core.display.Image object>"
      ]
     },
     "metadata": {},
     "output_type": "display_data"
    },
    {
     "data": {
      "text/html": [
       "<img src=\"http://cosmouk.cdnds.net/15/38/1442419954-tamal-ray-gbbo-hey-girl-meme-11.jpg\" width=\"350\" height=\"350\"/>"
      ],
      "text/plain": [
       "<IPython.core.display.Image object>"
      ]
     },
     "metadata": {},
     "output_type": "display_data"
    },
    {
     "name": "stdout",
     "output_type": "stream",
     "text": [
      "-----------------\n",
      "Image 4. Similarity Points: 0.4294\n"
     ]
    },
    {
     "data": {
      "text/html": [
       "<img src=\"http://res.cloudinary.com/reeact/image/upload/olegt8lhpqhqvhfvbw87.jpg\"/>"
      ],
      "text/plain": [
       "<IPython.core.display.Image object>"
      ]
     },
     "metadata": {},
     "output_type": "display_data"
    },
    {
     "data": {
      "text/html": [
       "<img src=\"https://encrypted-tbn0.gstatic.com/images?q=tbn:ANd9GcTD4SS9TZpEnoTXdSHT4oMG5oS1f53nwh7pPAhHSUurhTFKm5lFJL_mEkI\" width=\"350\" height=\"350\"/>"
      ],
      "text/plain": [
       "<IPython.core.display.Image object>"
      ]
     },
     "metadata": {},
     "output_type": "display_data"
    },
    {
     "name": "stdout",
     "output_type": "stream",
     "text": [
      "-----------------\n",
      "Image 5. Similarity Points: 0.6225\n"
     ]
    },
    {
     "data": {
      "text/html": [
       "<img src=\"http://res.cloudinary.com/reeact/image/upload/dkhow4jdqkoijrqclcgk.jpg\"/>"
      ],
      "text/plain": [
       "<IPython.core.display.Image object>"
      ]
     },
     "metadata": {},
     "output_type": "display_data"
    },
    {
     "data": {
      "text/html": [
       "<img src=\"https://encrypted-tbn0.gstatic.com/images?q=tbn:ANd9GcTD4SS9TZpEnoTXdSHT4oMG5oS1f53nwh7pPAhHSUurhTFKm5lFJL_mEkI\" width=\"350\" height=\"350\"/>"
      ],
      "text/plain": [
       "<IPython.core.display.Image object>"
      ]
     },
     "metadata": {},
     "output_type": "display_data"
    },
    {
     "name": "stdout",
     "output_type": "stream",
     "text": [
      "-----------------\n",
      "Image 6. Similarity Points: 0.8963\n"
     ]
    },
    {
     "data": {
      "text/html": [
       "<img src=\"http://res.cloudinary.com/reeact/image/upload/rzcd058jcijo3zd3xmxc.jpg\"/>"
      ],
      "text/plain": [
       "<IPython.core.display.Image object>"
      ]
     },
     "metadata": {},
     "output_type": "display_data"
    },
    {
     "data": {
      "text/html": [
       "<img src=\"https://encrypted-tbn0.gstatic.com/images?q=tbn:ANd9GcTD4SS9TZpEnoTXdSHT4oMG5oS1f53nwh7pPAhHSUurhTFKm5lFJL_mEkI\" width=\"350\" height=\"350\"/>"
      ],
      "text/plain": [
       "<IPython.core.display.Image object>"
      ]
     },
     "metadata": {},
     "output_type": "display_data"
    },
    {
     "name": "stdout",
     "output_type": "stream",
     "text": [
      "-----------------\n",
      "Image 7. Similarity Points: 0.7885\n"
     ]
    },
    {
     "data": {
      "text/html": [
       "<img src=\"http://res.cloudinary.com/reeact/image/upload/mjtjmmgu2gh1wninp4ug.jpg\"/>"
      ],
      "text/plain": [
       "<IPython.core.display.Image object>"
      ]
     },
     "metadata": {},
     "output_type": "display_data"
    },
    {
     "data": {
      "text/html": [
       "<img src=\"https://encrypted-tbn2.gstatic.com/images?q=tbn:ANd9GcShkROkfmBWiZqqpJyZe7Crxuzt2Ii4q4MydBzNeuFtk-2KHYWBUE9YJMs\" width=\"350\" height=\"350\"/>"
      ],
      "text/plain": [
       "<IPython.core.display.Image object>"
      ]
     },
     "metadata": {},
     "output_type": "display_data"
    },
    {
     "name": "stdout",
     "output_type": "stream",
     "text": [
      "-----------------\n",
      "Image 8. Similarity Points: 0.6518999999999999\n"
     ]
    },
    {
     "data": {
      "text/html": [
       "<img src=\"http://res.cloudinary.com/reeact/image/upload/m2trxmdtaigzyeeingxa.jpg\"/>"
      ],
      "text/plain": [
       "<IPython.core.display.Image object>"
      ]
     },
     "metadata": {},
     "output_type": "display_data"
    },
    {
     "data": {
      "text/html": [
       "<img src=\"https://encrypted-tbn1.gstatic.com/images?q=tbn:ANd9GcTXQ7gACO-XXAjMCOjvZltJeADWhKdq6umBVC-mwCThpwdKmGpRgtdB1ukohw\" width=\"350\" height=\"350\"/>"
      ],
      "text/plain": [
       "<IPython.core.display.Image object>"
      ]
     },
     "metadata": {},
     "output_type": "display_data"
    },
    {
     "name": "stdout",
     "output_type": "stream",
     "text": [
      "-----------------\n",
      "Image 9. Similarity Points: 1.0\n"
     ]
    },
    {
     "data": {
      "text/html": [
       "<img src=\"http://res.cloudinary.com/reeact/image/upload/vofhczxbqiatzpf4y3me.jpg\"/>"
      ],
      "text/plain": [
       "<IPython.core.display.Image object>"
      ]
     },
     "metadata": {},
     "output_type": "display_data"
    },
    {
     "data": {
      "text/html": [
       "<img src=\"https://encrypted-tbn2.gstatic.com/images?q=tbn:ANd9GcS_ZqAyIWY54cXB1-LPact66TTKL1IRLNfGJjobl9Od45tQGw5n3q8hKWn1\" width=\"350\" height=\"350\"/>"
      ],
      "text/plain": [
       "<IPython.core.display.Image object>"
      ]
     },
     "metadata": {},
     "output_type": "display_data"
    },
    {
     "name": "stdout",
     "output_type": "stream",
     "text": [
      "-----------------\n",
      "Image 10. Similarity Points: 1.0\n"
     ]
    },
    {
     "data": {
      "text/html": [
       "<img src=\"http://res.cloudinary.com/reeact/image/upload/gin0c7bdp6laligk6fog.jpg\"/>"
      ],
      "text/plain": [
       "<IPython.core.display.Image object>"
      ]
     },
     "metadata": {},
     "output_type": "display_data"
    },
    {
     "data": {
      "text/html": [
       "<img src=\"https://encrypted-tbn2.gstatic.com/images?q=tbn:ANd9GcS_ZqAyIWY54cXB1-LPact66TTKL1IRLNfGJjobl9Od45tQGw5n3q8hKWn1\" width=\"350\" height=\"350\"/>"
      ],
      "text/plain": [
       "<IPython.core.display.Image object>"
      ]
     },
     "metadata": {},
     "output_type": "display_data"
    },
    {
     "name": "stdout",
     "output_type": "stream",
     "text": [
      "-----------------\n",
      "Image 11. Similarity Points: 1.0\n"
     ]
    },
    {
     "data": {
      "text/html": [
       "<img src=\"http://res.cloudinary.com/reeact/image/upload/bbsa3tej2blonlyj1mpm.jpg\"/>"
      ],
      "text/plain": [
       "<IPython.core.display.Image object>"
      ]
     },
     "metadata": {},
     "output_type": "display_data"
    },
    {
     "data": {
      "text/html": [
       "<img src=\"https://encrypted-tbn2.gstatic.com/images?q=tbn:ANd9GcS_ZqAyIWY54cXB1-LPact66TTKL1IRLNfGJjobl9Od45tQGw5n3q8hKWn1\" width=\"350\" height=\"350\"/>"
      ],
      "text/plain": [
       "<IPython.core.display.Image object>"
      ]
     },
     "metadata": {},
     "output_type": "display_data"
    },
    {
     "name": "stdout",
     "output_type": "stream",
     "text": [
      "-----------------\n",
      "Image 12. Similarity Points: 1.0\n"
     ]
    },
    {
     "data": {
      "text/html": [
       "<img src=\"http://res.cloudinary.com/reeact/image/upload/ztx6jvhmv5f6cjofvf3e.jpg\"/>"
      ],
      "text/plain": [
       "<IPython.core.display.Image object>"
      ]
     },
     "metadata": {},
     "output_type": "display_data"
    },
    {
     "data": {
      "text/html": [
       "<img src=\"https://encrypted-tbn2.gstatic.com/images?q=tbn:ANd9GcS_ZqAyIWY54cXB1-LPact66TTKL1IRLNfGJjobl9Od45tQGw5n3q8hKWn1\" width=\"350\" height=\"350\"/>"
      ],
      "text/plain": [
       "<IPython.core.display.Image object>"
      ]
     },
     "metadata": {},
     "output_type": "display_data"
    },
    {
     "name": "stdout",
     "output_type": "stream",
     "text": [
      "-----------------\n",
      "Image 13. Similarity Points: 0.6518999999999999\n"
     ]
    },
    {
     "data": {
      "text/html": [
       "<img src=\"http://res.cloudinary.com/reeact/image/upload/cey9wdu0d8nx6mggsliv.jpg\"/>"
      ],
      "text/plain": [
       "<IPython.core.display.Image object>"
      ]
     },
     "metadata": {},
     "output_type": "display_data"
    },
    {
     "data": {
      "text/html": [
       "<img src=\"https://encrypted-tbn1.gstatic.com/images?q=tbn:ANd9GcTXQ7gACO-XXAjMCOjvZltJeADWhKdq6umBVC-mwCThpwdKmGpRgtdB1ukohw\" width=\"350\" height=\"350\"/>"
      ],
      "text/plain": [
       "<IPython.core.display.Image object>"
      ]
     },
     "metadata": {},
     "output_type": "display_data"
    },
    {
     "name": "stdout",
     "output_type": "stream",
     "text": [
      "-----------------\n",
      "Image 14. Similarity Points: 1.0\n"
     ]
    },
    {
     "data": {
      "text/html": [
       "<img src=\"http://res.cloudinary.com/reeact/image/upload/mpwxqoqvhxvujfpu89yh.jpg\"/>"
      ],
      "text/plain": [
       "<IPython.core.display.Image object>"
      ]
     },
     "metadata": {},
     "output_type": "display_data"
    },
    {
     "data": {
      "text/html": [
       "<img src=\"https://encrypted-tbn2.gstatic.com/images?q=tbn:ANd9GcS_ZqAyIWY54cXB1-LPact66TTKL1IRLNfGJjobl9Od45tQGw5n3q8hKWn1\" width=\"350\" height=\"350\"/>"
      ],
      "text/plain": [
       "<IPython.core.display.Image object>"
      ]
     },
     "metadata": {},
     "output_type": "display_data"
    },
    {
     "name": "stdout",
     "output_type": "stream",
     "text": [
      "-----------------\n",
      "Image 15. Similarity Points: 1.0\n"
     ]
    },
    {
     "data": {
      "text/html": [
       "<img src=\"http://res.cloudinary.com/reeact/image/upload/srsf80m0eekgofaty2fr.jpg\"/>"
      ],
      "text/plain": [
       "<IPython.core.display.Image object>"
      ]
     },
     "metadata": {},
     "output_type": "display_data"
    },
    {
     "data": {
      "text/html": [
       "<img src=\"https://encrypted-tbn2.gstatic.com/images?q=tbn:ANd9GcS_ZqAyIWY54cXB1-LPact66TTKL1IRLNfGJjobl9Od45tQGw5n3q8hKWn1\" width=\"350\" height=\"350\"/>"
      ],
      "text/plain": [
       "<IPython.core.display.Image object>"
      ]
     },
     "metadata": {},
     "output_type": "display_data"
    },
    {
     "name": "stdout",
     "output_type": "stream",
     "text": [
      "-----------------\n",
      "Image 16. Similarity Points: 0.7885\n"
     ]
    },
    {
     "data": {
      "text/html": [
       "<img src=\"http://res.cloudinary.com/reeact/image/upload/fgyj4h6xpkvrd364gpod.jpg\"/>"
      ],
      "text/plain": [
       "<IPython.core.display.Image object>"
      ]
     },
     "metadata": {},
     "output_type": "display_data"
    },
    {
     "data": {
      "text/html": [
       "<img src=\"https://encrypted-tbn2.gstatic.com/images?q=tbn:ANd9GcShkROkfmBWiZqqpJyZe7Crxuzt2Ii4q4MydBzNeuFtk-2KHYWBUE9YJMs\" width=\"350\" height=\"350\"/>"
      ],
      "text/plain": [
       "<IPython.core.display.Image object>"
      ]
     },
     "metadata": {},
     "output_type": "display_data"
    },
    {
     "name": "stdout",
     "output_type": "stream",
     "text": [
      "-----------------\n"
     ]
    }
   ],
   "source": [
    "from pymongo import MongoClient\n",
    "import urllib.request\n",
    "from PIL import Image\n",
    "import math\n",
    "from IPython.display import Image\n",
    "from IPython.display import display\n",
    "\n",
    "\n",
    "\n",
    "def emotionDistance(imgA, imgB):\n",
    "    try:\n",
    "        distance = math.pow(math.pow(imgA['scores']['anger']- imgB['scores']['anger'],2) +\n",
    "                math.pow(imgA['scores']['contempt']- imgB['scores']['contempt'],2) +\n",
    "                math.pow(imgA['scores']['disgust']- imgB['scores']['disgust'],2) +\n",
    "                math.pow(imgA['scores']['fear']- imgB['scores']['fear'],2) +\n",
    "                math.pow(imgA['scores']['happiness']- imgB['scores']['happiness'],2) +\n",
    "                math.pow(imgA['scores']['neutral']- imgB['scores']['neutral'],2) +\n",
    "                math.pow(imgA['scores']['sadness']- imgB['scores']['sadness'],2) +\n",
    "                math.pow(imgA['scores']['surprise']- imgB['scores']['surprise'],2), 0.5)\n",
    "    except Exception as e:\n",
    "        #print('functionDistance: '+str(e))\n",
    "        #print()\n",
    "        a=1\n",
    "    return distance\n",
    "\n",
    "\n",
    "client = MongoClient()\n",
    "client = MongoClient(\"mongodb://dyn-160-39-150-144.dyn.columbia.edu\", 27000)\n",
    "\n",
    "db_memes = client.memes\n",
    "db_photos = client.photos\n",
    "\n",
    "cursor_memes = db_memes.memes.find()\n",
    "cursor_photos = db_photos.photos.find()\n",
    "        \n",
    "print('Memes count:'+ str(cursor_memes.count()))\n",
    "print('Photos count:'+ str(cursor_photos.count()))\n",
    "\n",
    "results = list()\n",
    "\n",
    "for i, photo in enumerate(cursor_photos):\n",
    "    #print('ph'+str(i) + '. Checking for: '+ photo['_id'])\n",
    "    min_dist = 9999\n",
    "    cursor_memes = db_memes.memes.find()\n",
    "\n",
    "    for j, meme in enumerate(cursor_memes):\n",
    "        #print('me'+str(j) + '. Checking for: '+ meme['_id'])\n",
    "        try:\n",
    "            dist = emotionDistance(photo,meme)\n",
    "            if dist < min_dist:\n",
    "                min_dist = dist\n",
    "                current_meme = meme['_id']\n",
    "            \n",
    "        except Exception as e: \n",
    "            #print(str(i)+\" \"+ str(j)+\" \"+str(e))\n",
    "            a=1\n",
    "            #print()\n",
    "    results.append([i, photo['_id'], current_meme, min_dist])\n",
    "\n",
    "print(\"\")\n",
    "for aa in results:\n",
    "    print(\"Image \"+str(aa[0])+ \". Similarity Points: \" + str(1-round(aa[3],4)))\n",
    "    img1 = Image(url=aa[1])\n",
    "    img2 = Image(url=aa[2],width=350, height=350)\n",
    "    display(img1, img2)\n",
    "    print(\"-----------------\")\n",
    "    \n"
   ]
  },
  {
   "cell_type": "markdown",
   "metadata": {},
   "source": [
    "### Feeling distance between two images "
   ]
  },
  {
   "cell_type": "code",
   "execution_count": null,
   "metadata": {
    "collapsed": true
   },
   "outputs": [],
   "source": []
  },
  {
   "cell_type": "code",
   "execution_count": null,
   "metadata": {
    "collapsed": true
   },
   "outputs": [],
   "source": []
  }
 ],
 "metadata": {
  "kernelspec": {
   "display_name": "Python 3",
   "language": "python",
   "name": "python3"
  },
  "language_info": {
   "codemirror_mode": {
    "name": "ipython",
    "version": 3
   },
   "file_extension": ".py",
   "mimetype": "text/x-python",
   "name": "python",
   "nbconvert_exporter": "python",
   "pygments_lexer": "ipython3",
   "version": "3.4.3"
  }
 },
 "nbformat": 4,
 "nbformat_minor": 0
}
