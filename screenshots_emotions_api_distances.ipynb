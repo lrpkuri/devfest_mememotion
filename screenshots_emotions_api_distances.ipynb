{
 "cells": [
  {
   "cell_type": "markdown",
   "metadata": {},
   "source": [
    "### Gets a screenshot every \"x\" seconds"
   ]
  },
  {
   "cell_type": "code",
   "execution_count": null,
   "metadata": {
    "collapsed": false
   },
   "outputs": [],
   "source": [
    "import pyscreenshot as ImageGrab\n",
    "import datetime\n",
    "import time\n",
    "\n",
    "for t in range(1,20):\n",
    "    current_time = datetime.datetime.now().strftime(\"%Y%m%d_%H_%M_%S\")\n",
    "    print('capture'+current_time+'.jpg')\n",
    "    im=ImageGrab.grab(bbox=(300,130,1180,630)) # X1,Y1,X2,Y2\n",
    "    im.save('capture'+current_time+'.jpg')\n",
    "    time.sleep(1)"
   ]
  },
  {
   "cell_type": "markdown",
   "metadata": {},
   "source": [
    "### Calls API to get Emotion Vector"
   ]
  },
  {
   "cell_type": "code",
   "execution_count": null,
   "metadata": {
    "collapsed": false
   },
   "outputs": [],
   "source": [
    "import http.client, urllib.request, urllib.parse, urllib.error, base64, json\n",
    "\n",
    "url = 'https://encrypted-tbn0.gstatic.com/images?q=tbn:ANd9GcQk0-sGWCvtyGz-RuW91CidTZOXHqDhofKQtgMNJQNlt06XSbJ9-uC3Gis'\n",
    "\n",
    "headers = {\n",
    "    # Request headers\n",
    "    'Content-Type': 'application/json',\n",
    "    'Ocp-Apim-Subscription-Key': '2750c64f4fcd4c398aac157a5d77c675',\n",
    "}\n",
    "\n",
    "\n",
    "body = {\n",
    "    'url': url,\n",
    "}\n",
    "params = urllib.parse.urlencode({\n",
    "    # Request parameters\n",
    "    'faceRectangles': '{string}',\n",
    "})\n",
    "try:\n",
    "    conn = http.client.HTTPSConnection('api.projectoxford.ai')\n",
    "    conn.request(\"POST\", \"/emotion/v1.0/recognize\", json.dumps(body), headers)\n",
    "    response = conn.getresponse()\n",
    "    data = response.read()\n",
    "    print(data)\n",
    "    conn.close()\n",
    "except Exception as e:\n",
    "    print(e.message)"
   ]
  },
  {
   "cell_type": "markdown",
   "metadata": {
    "collapsed": true
   },
   "source": [
    "## Generates image frames from a video"
   ]
  },
  {
   "cell_type": "code",
   "execution_count": null,
   "metadata": {
    "collapsed": false,
    "scrolled": true
   },
   "outputs": [],
   "source": [
    "import os, sys\n",
    "from moviepy.editor import *\n",
    "#from IPython.display import Image\n",
    "import math\n",
    "from PIL import Image\n",
    "\n",
    "\n",
    "i = 1\n",
    "for video_filename in os.listdir('.\\\\reactions\\\\'):\n",
    "    try:\n",
    "        myclip = VideoFileClip('.\\\\reactions\\\\'+video_filename)\n",
    "        duration = math.trunc(myclip.duration)\n",
    "    except:\n",
    "        continue\n",
    "        \n",
    "    for t in range(duration+1):\n",
    "        photo_filename = \".\\\\reactions\\\\pics\\\\frame_\"+str(i)+\"_\"+str(t)+\".jpeg\"\n",
    "        print(photo_filename)\n",
    "        myclip.save_frame(photo_filename, '00:00:0'+str(t)) # frame at second t\n",
    "        im = Image.open(photo_filename)\n",
    "        out = im.transpose(Image.ROTATE_270)\n",
    "        out.save(photo_filename)\n",
    "    i=i+1"
   ]
  },
  {
   "cell_type": "markdown",
   "metadata": {
    "collapsed": true
   },
   "source": [
    "### MongoDB connection"
   ]
  },
  {
   "cell_type": "code",
   "execution_count": 136,
   "metadata": {
    "collapsed": false,
    "scrolled": true
   },
   "outputs": [
    {
     "name": "stdout",
     "output_type": "stream",
     "text": [
      "Memes count:20\n",
      "Photos count:7\n",
      "functionDistance: 'scores'\n",
      "0 5 local variable 'distance' referenced before assignment\n",
      "functionDistance: 'scores'\n",
      "0 10 local variable 'distance' referenced before assignment\n",
      "functionDistance: 'scores'\n",
      "0 12 local variable 'distance' referenced before assignment\n",
      "functionDistance: 'scores'\n",
      "0 15 local variable 'distance' referenced before assignment\n",
      "functionDistance: 'scores'\n",
      "0 16 local variable 'distance' referenced before assignment\n",
      "functionDistance: 'scores'\n",
      "1 5 local variable 'distance' referenced before assignment\n",
      "functionDistance: 'scores'\n",
      "1 10 local variable 'distance' referenced before assignment\n",
      "functionDistance: 'scores'\n",
      "1 12 local variable 'distance' referenced before assignment\n",
      "functionDistance: 'scores'\n",
      "1 15 local variable 'distance' referenced before assignment\n",
      "functionDistance: 'scores'\n",
      "1 16 local variable 'distance' referenced before assignment\n",
      "functionDistance: 'scores'\n",
      "2 5 local variable 'distance' referenced before assignment\n",
      "functionDistance: 'scores'\n",
      "2 10 local variable 'distance' referenced before assignment\n",
      "functionDistance: 'scores'\n",
      "2 12 local variable 'distance' referenced before assignment\n",
      "functionDistance: 'scores'\n",
      "2 15 local variable 'distance' referenced before assignment\n",
      "functionDistance: 'scores'\n",
      "2 16 local variable 'distance' referenced before assignment\n",
      "functionDistance: 'scores'\n",
      "3 5 local variable 'distance' referenced before assignment\n",
      "functionDistance: 'scores'\n",
      "3 10 local variable 'distance' referenced before assignment\n",
      "functionDistance: 'scores'\n",
      "3 12 local variable 'distance' referenced before assignment\n",
      "functionDistance: 'scores'\n",
      "3 15 local variable 'distance' referenced before assignment\n",
      "functionDistance: 'scores'\n",
      "3 16 local variable 'distance' referenced before assignment\n",
      "functionDistance: 'scores'\n",
      "4 5 local variable 'distance' referenced before assignment\n",
      "functionDistance: 'scores'\n",
      "4 10 local variable 'distance' referenced before assignment\n",
      "functionDistance: 'scores'\n",
      "4 12 local variable 'distance' referenced before assignment\n",
      "functionDistance: 'scores'\n",
      "4 15 local variable 'distance' referenced before assignment\n",
      "functionDistance: 'scores'\n",
      "4 16 local variable 'distance' referenced before assignment\n",
      "functionDistance: 'scores'\n",
      "5 5 local variable 'distance' referenced before assignment\n",
      "functionDistance: 'scores'\n",
      "5 10 local variable 'distance' referenced before assignment\n",
      "functionDistance: 'scores'\n",
      "5 12 local variable 'distance' referenced before assignment\n",
      "functionDistance: 'scores'\n",
      "5 15 local variable 'distance' referenced before assignment\n",
      "functionDistance: 'scores'\n",
      "5 16 local variable 'distance' referenced before assignment\n",
      "functionDistance: 'scores'\n",
      "6 5 local variable 'distance' referenced before assignment\n",
      "functionDistance: 'scores'\n",
      "6 10 local variable 'distance' referenced before assignment\n",
      "functionDistance: 'scores'\n",
      "6 12 local variable 'distance' referenced before assignment\n",
      "functionDistance: 'scores'\n",
      "6 15 local variable 'distance' referenced before assignment\n",
      "functionDistance: 'scores'\n",
      "6 16 local variable 'distance' referenced before assignment\n",
      "[0, 'http://res.cloudinary.com/reeact/image/upload/yfuwqexsrqxfn9aa5kgy.jpg', 'https://encrypted-tbn0.gstatic.com/images?q=tbn:ANd9GcRHhRu0SdQ2XwLzoYAXB7vK21tTLyIHGpQcaWGzxqnmwoADyMxtPlG-mC59', 0.5555074279521245]\n",
      "[1, 'http://res.cloudinary.com/reeact/image/upload/ga6owmylies8nqpx1dc1.jpg', 'https://encrypted-tbn2.gstatic.com/images?q=tbn:ANd9GcS_ZqAyIWY54cXB1-LPact66TTKL1IRLNfGJjobl9Od45tQGw5n3q8hKWn1', 8.23419698533168e-06]\n",
      "[2, 'http://res.cloudinary.com/reeact/image/upload/oyiphhpmyd9rpb890pjf.jpg', 'https://encrypted-tbn2.gstatic.com/images?q=tbn:ANd9GcS_ZqAyIWY54cXB1-LPact66TTKL1IRLNfGJjobl9Od45tQGw5n3q8hKWn1', 2.22109025396705e-07]\n",
      "[3, 'http://res.cloudinary.com/reeact/image/upload/ufvyowcsp5wfxhy7czpl.jpg', 'https://encrypted-tbn1.gstatic.com/images?q=tbn:ANd9GcQUAv9dYNs180YoMG4ezcqVknTEpLoMYZCpyiLjAn3BDhSeHWoWFcMKDS1t', 0.005205985514757773]\n",
      "[4, 'http://res.cloudinary.com/reeact/image/upload/olegt8lhpqhqvhfvbw87.jpg', 'https://encrypted-tbn0.gstatic.com/images?q=tbn:ANd9GcTD4SS9TZpEnoTXdSHT4oMG5oS1f53nwh7pPAhHSUurhTFKm5lFJL_mEkI', 0.5706161125543951]\n",
      "[5, 'http://res.cloudinary.com/reeact/image/upload/dkhow4jdqkoijrqclcgk.jpg', 'https://encrypted-tbn0.gstatic.com/images?q=tbn:ANd9GcTD4SS9TZpEnoTXdSHT4oMG5oS1f53nwh7pPAhHSUurhTFKm5lFJL_mEkI', 0.3775142048749075]\n",
      "[6, 'http://res.cloudinary.com/reeact/image/upload/rzcd058jcijo3zd3xmxc.jpg', 'https://encrypted-tbn0.gstatic.com/images?q=tbn:ANd9GcTD4SS9TZpEnoTXdSHT4oMG5oS1f53nwh7pPAhHSUurhTFKm5lFJL_mEkI', 0.10365208396171413]\n"
     ]
    }
   ],
   "source": [
    "from pymongo import MongoClient\n",
    "import urllib.request\n",
    "from PIL import Image\n",
    "import math\n",
    "\n",
    "def emotionDistance(imgA, imgB):\n",
    "    try:\n",
    "        distance = math.pow(math.pow(imgA['scores']['anger']- imgB['scores']['anger'],2) +\n",
    "                math.pow(imgA['scores']['contempt']- imgB['scores']['contempt'],2) +\n",
    "                math.pow(imgA['scores']['disgust']- imgB['scores']['disgust'],2) +\n",
    "                math.pow(imgA['scores']['fear']- imgB['scores']['fear'],2) +\n",
    "                math.pow(imgA['scores']['happiness']- imgB['scores']['happiness'],2) +\n",
    "                math.pow(imgA['scores']['neutral']- imgB['scores']['neutral'],2) +\n",
    "                math.pow(imgA['scores']['sadness']- imgB['scores']['sadness'],2) +\n",
    "                math.pow(imgA['scores']['surprise']- imgB['scores']['surprise'],2), 0.5)\n",
    "    except Exception as e:\n",
    "        print('functionDistance: '+str(e))\n",
    "    return distance\n",
    "\n",
    "\n",
    "client = MongoClient()\n",
    "client = MongoClient(\"mongodb://dyn-160-39-150-144.dyn.columbia.edu\", 27000)\n",
    "\n",
    "db_memes = client.memes\n",
    "db_photos = client.photos\n",
    "\n",
    "cursor_memes = db_memes.memes.find()\n",
    "cursor_photos = db_photos.photos.find()\n",
    "        \n",
    "print('Memes count:'+ str(cursor_memes.count()))\n",
    "print('Photos count:'+ str(cursor_photos.count()))\n",
    "\n",
    "results = list()\n",
    "\n",
    "for i, photo in enumerate(cursor_photos):\n",
    "    #print('ph'+str(i) + '. Checking for: '+ photo['_id'])\n",
    "    min_dist = 9999\n",
    "    cursor_memes = db_memes.memes.find()\n",
    "\n",
    "    for j, meme in enumerate(cursor_memes):\n",
    "        #print('me'+str(j) + '. Checking for: '+ meme['_id'])\n",
    "        try:\n",
    "            dist = emotionDistance(photo,meme)\n",
    "            #print(dist)          \n",
    "            if dist < min_dist:\n",
    "                min_dist = dist\n",
    "                current_meme = meme['_id']\n",
    "            #print(current_meme)\n",
    "        except Exception as e: \n",
    "            print(str(i)+\" \"+ str(j)+\" \"+str(e))\n",
    "\n",
    "    results.append([i, photo['_id'], current_meme, min_dist])\n",
    "\n",
    "for aa in results:\n",
    "    print(aa)"
   ]
  },
  {
   "cell_type": "markdown",
   "metadata": {},
   "source": [
    "### Feeling distance between two images "
   ]
  },
  {
   "cell_type": "code",
   "execution_count": null,
   "metadata": {
    "collapsed": true
   },
   "outputs": [],
   "source": []
  },
  {
   "cell_type": "code",
   "execution_count": null,
   "metadata": {
    "collapsed": true
   },
   "outputs": [],
   "source": []
  }
 ],
 "metadata": {
  "kernelspec": {
   "display_name": "Python 3",
   "language": "python",
   "name": "python3"
  },
  "language_info": {
   "codemirror_mode": {
    "name": "ipython",
    "version": 3
   },
   "file_extension": ".py",
   "mimetype": "text/x-python",
   "name": "python",
   "nbconvert_exporter": "python",
   "pygments_lexer": "ipython3",
   "version": "3.4.3"
  }
 },
 "nbformat": 4,
 "nbformat_minor": 0
}
