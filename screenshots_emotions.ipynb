{
 "cells": [
  {
   "cell_type": "markdown",
   "metadata": {},
   "source": [
    "# ## Gets a screenshot every \"x\" seconds"
   ]
  },
  {
   "cell_type": "code",
   "execution_count": 10,
   "metadata": {
    "collapsed": false
   },
   "outputs": [
    {
     "name": "stdout",
     "output_type": "stream",
     "text": [
      "capture20160206_03_16_35.jpg\n",
      "capture20160206_03_16_36.jpg\n",
      "capture20160206_03_16_37.jpg\n",
      "capture20160206_03_16_39.jpg\n",
      "capture20160206_03_16_40.jpg\n",
      "capture20160206_03_16_41.jpg\n",
      "capture20160206_03_16_42.jpg\n",
      "capture20160206_03_16_43.jpg\n",
      "capture20160206_03_16_44.jpg\n",
      "capture20160206_03_16_45.jpg\n",
      "capture20160206_03_16_47.jpg\n",
      "capture20160206_03_16_48.jpg\n",
      "capture20160206_03_16_49.jpg\n",
      "capture20160206_03_16_50.jpg\n",
      "capture20160206_03_16_51.jpg\n",
      "capture20160206_03_16_52.jpg\n",
      "capture20160206_03_16_53.jpg\n",
      "capture20160206_03_16_54.jpg\n",
      "capture20160206_03_16_56.jpg\n"
     ]
    }
   ],
   "source": [
    "import pyscreenshot as ImageGrab\n",
    "import datetime\n",
    "import time\n",
    "\n",
    "for t in range(1,20):\n",
    "    current_time = datetime.datetime.now().strftime(\"%Y%m%d_%H_%M_%S\")\n",
    "    print('capture'+current_time+'.jpg')\n",
    "    im=ImageGrab.grab(bbox=(300,130,1180,630)) # X1,Y1,X2,Y2\n",
    "    im.save('capture'+current_time+'.jpg')\n",
    "    time.sleep(1)"
   ]
  },
  {
   "cell_type": "markdown",
   "metadata": {},
   "source": [
    "# ## Calls API to get Emotion Vector"
   ]
  },
  {
   "cell_type": "code",
   "execution_count": 36,
   "metadata": {
    "collapsed": false
   },
   "outputs": [
    {
     "name": "stdout",
     "output_type": "stream",
     "text": [
      "b'[{\"faceRectangle\":{\"height\":38,\"left\":48,\"top\":27,\"width\":38},\"scores\":{\"anger\":1.8977115E-08,\"contempt\":6.92382457E-07,\"disgust\":6.91794048E-06,\"fear\":3.43455353E-09,\"happiness\":0.99998194,\"neutral\":7.644299E-06,\"sadness\":2.76430774E-06,\"surprise\":1.86438154E-08}}]'\n"
     ]
    }
   ],
   "source": [
    "import http.client, urllib.request, urllib.parse, urllib.error, base64, json\n",
    "\n",
    "url = 'https://encrypted-tbn0.gstatic.com/images?q=tbn:ANd9GcQk0-sGWCvtyGz-RuW91CidTZOXHqDhofKQtgMNJQNlt06XSbJ9-uC3Gis'\n",
    "\n",
    "headers = {\n",
    "    # Request headers\n",
    "    'Content-Type': 'application/json',\n",
    "    'Ocp-Apim-Subscription-Key': '2750c64f4fcd4c398aac157a5d77c675',\n",
    "}\n",
    "\n",
    "\n",
    "body = {\n",
    "    'url': url,\n",
    "}\n",
    "params = urllib.parse.urlencode({\n",
    "    # Request parameters\n",
    "    'faceRectangles': '{string}',\n",
    "})\n",
    "try:\n",
    "    conn = http.client.HTTPSConnection('api.projectoxford.ai')\n",
    "    conn.request(\"POST\", \"/emotion/v1.0/recognize\", json.dumps(body), headers)\n",
    "    response = conn.getresponse()\n",
    "    data = response.read()\n",
    "    print(data)\n",
    "    conn.close()\n",
    "except Exception as e:\n",
    "    print(e.message)"
   ]
  },
  {
   "cell_type": "markdown",
   "metadata": {
    "collapsed": true
   },
   "source": [
    "# ## Generates image frames from a video"
   ]
  },
  {
   "cell_type": "code",
   "execution_count": 21,
   "metadata": {
    "collapsed": false
   },
   "outputs": [
    {
     "name": "stdout",
     "output_type": "stream",
     "text": [
      ".\\reactions\\pics\\frame_1_0.jpeg\n",
      ".\\reactions\\pics\\frame_1_1.jpeg\n",
      ".\\reactions\\pics\\frame_1_2.jpeg\n",
      ".\\reactions\\pics\\frame_1_3.jpeg\n",
      ".\\reactions\\pics\\frame_2_0.jpeg\n",
      ".\\reactions\\pics\\frame_2_1.jpeg\n",
      ".\\reactions\\pics\\frame_2_2.jpeg\n",
      ".\\reactions\\pics\\frame_2_3.jpeg\n",
      ".\\reactions\\pics\\frame_2_4.jpeg\n",
      ".\\reactions\\pics\\frame_2_5.jpeg\n",
      ".\\reactions\\pics\\frame_3_0.jpeg\n",
      ".\\reactions\\pics\\frame_3_1.jpeg\n",
      ".\\reactions\\pics\\frame_3_2.jpeg\n",
      ".\\reactions\\pics\\frame_3_3.jpeg\n",
      ".\\reactions\\pics\\frame_3_4.jpeg\n",
      ".\\reactions\\pics\\frame_3_5.jpeg\n",
      ".\\reactions\\pics\\frame_3_6.jpeg\n",
      ".\\reactions\\pics\\frame_3_7.jpeg\n",
      ".\\reactions\\pics\\frame_3_8.jpeg\n",
      ".\\reactions\\pics\\frame_4_0.jpeg\n",
      ".\\reactions\\pics\\frame_4_1.jpeg\n",
      ".\\reactions\\pics\\frame_4_2.jpeg\n",
      ".\\reactions\\pics\\frame_4_3.jpeg\n",
      ".\\reactions\\pics\\frame_4_4.jpeg\n",
      ".\\reactions\\pics\\frame_4_5.jpeg\n",
      ".\\reactions\\pics\\frame_4_6.jpeg\n",
      ".\\reactions\\pics\\frame_4_7.jpeg\n",
      ".\\reactions\\pics\\frame_4_8.jpeg\n",
      ".\\reactions\\pics\\frame_4_9.jpeg\n",
      ".\\reactions\\pics\\frame_4_10.jpeg\n",
      ".\\reactions\\pics\\frame_4_11.jpeg\n",
      ".\\reactions\\pics\\frame_4_12.jpeg\n",
      ".\\reactions\\pics\\frame_4_13.jpeg\n",
      ".\\reactions\\pics\\frame_4_14.jpeg\n",
      ".\\reactions\\pics\\frame_4_15.jpeg\n",
      ".\\reactions\\pics\\frame_5_0.jpeg\n",
      ".\\reactions\\pics\\frame_5_1.jpeg\n",
      ".\\reactions\\pics\\frame_5_2.jpeg\n",
      ".\\reactions\\pics\\frame_5_3.jpeg\n",
      ".\\reactions\\pics\\frame_5_4.jpeg\n",
      ".\\reactions\\pics\\frame_6_0.jpeg\n",
      ".\\reactions\\pics\\frame_6_1.jpeg\n",
      ".\\reactions\\pics\\frame_6_2.jpeg\n",
      ".\\reactions\\pics\\frame_6_3.jpeg\n",
      ".\\reactions\\pics\\frame_6_4.jpeg\n",
      ".\\reactions\\pics\\frame_6_5.jpeg\n",
      ".\\reactions\\pics\\frame_6_6.jpeg\n",
      ".\\reactions\\pics\\frame_6_7.jpeg\n",
      ".\\reactions\\pics\\frame_6_8.jpeg\n",
      ".\\reactions\\pics\\frame_6_9.jpeg\n",
      ".\\reactions\\pics\\frame_6_10.jpeg\n",
      ".\\reactions\\pics\\frame_6_11.jpeg\n",
      ".\\reactions\\pics\\frame_6_12.jpeg\n",
      ".\\reactions\\pics\\frame_6_13.jpeg\n",
      ".\\reactions\\pics\\frame_6_14.jpeg\n",
      ".\\reactions\\pics\\frame_6_15.jpeg\n",
      ".\\reactions\\pics\\frame_6_16.jpeg\n",
      ".\\reactions\\pics\\frame_6_17.jpeg\n",
      ".\\reactions\\pics\\frame_6_18.jpeg\n",
      ".\\reactions\\pics\\frame_6_19.jpeg\n",
      ".\\reactions\\pics\\frame_7_0.jpeg\n",
      ".\\reactions\\pics\\frame_7_1.jpeg\n",
      ".\\reactions\\pics\\frame_7_2.jpeg\n",
      ".\\reactions\\pics\\frame_7_3.jpeg\n",
      ".\\reactions\\pics\\frame_7_4.jpeg\n",
      ".\\reactions\\pics\\frame_8_0.jpeg\n",
      ".\\reactions\\pics\\frame_8_1.jpeg\n",
      ".\\reactions\\pics\\frame_8_2.jpeg\n",
      ".\\reactions\\pics\\frame_8_3.jpeg\n",
      ".\\reactions\\pics\\frame_8_4.jpeg\n",
      ".\\reactions\\pics\\frame_9_0.jpeg\n",
      ".\\reactions\\pics\\frame_9_1.jpeg\n",
      ".\\reactions\\pics\\frame_9_2.jpeg\n",
      ".\\reactions\\pics\\frame_9_3.jpeg\n",
      ".\\reactions\\pics\\frame_9_4.jpeg\n",
      ".\\reactions\\pics\\frame_10_0.jpeg\n",
      ".\\reactions\\pics\\frame_10_1.jpeg\n",
      ".\\reactions\\pics\\frame_10_2.jpeg\n",
      ".\\reactions\\pics\\frame_10_3.jpeg\n",
      ".\\reactions\\pics\\frame_10_4.jpeg\n"
     ]
    },
    {
     "name": "stderr",
     "output_type": "stream",
     "text": [
      "Exception ignored in: <bound method VideoFileClip.__del__ of <moviepy.video.io.VideoFileClip.VideoFileClip object at 0x00000000007CD080>>\n",
      "Traceback (most recent call last):\n",
      "  File \"C:\\Anaconda3\\lib\\site-packages\\moviepy\\video\\io\\VideoFileClip.py\", line 86, in __del__\n",
      "    del self.reader\n",
      "AttributeError: reader\n"
     ]
    }
   ],
   "source": [
    "import os, sys\n",
    "from moviepy.editor import *\n",
    "#from IPython.display import Image\n",
    "import math\n",
    "from PIL import Image\n",
    "\n",
    "\n",
    "i = 1\n",
    "for video_filename in os.listdir('.\\\\reactions\\\\'):\n",
    "    try:\n",
    "        myclip = VideoFileClip('.\\\\reactions\\\\'+video_filename)\n",
    "        duration = math.trunc(myclip.duration)\n",
    "    except:\n",
    "        continue\n",
    "        \n",
    "    for t in range(duration+1):\n",
    "        photo_filename = \".\\\\reactions\\\\pics\\\\frame_\"+str(i)+\"_\"+str(t)+\".jpeg\"\n",
    "        print(photo_filename)\n",
    "        myclip.save_frame(photo_filename, '00:00:0'+str(t)) # frame at second t\n",
    "        im = Image.open(photo_filename)\n",
    "        out = im.transpose(Image.ROTATE_270)\n",
    "        out.save(photo_filename)\n",
    "    i=i+1"
   ]
  },
  {
   "cell_type": "code",
   "execution_count": null,
   "metadata": {
    "collapsed": true
   },
   "outputs": [],
   "source": []
  }
 ],
 "metadata": {
  "kernelspec": {
   "display_name": "Python 3",
   "language": "python",
   "name": "python3"
  },
  "language_info": {
   "codemirror_mode": {
    "name": "ipython",
    "version": 3
   },
   "file_extension": ".py",
   "mimetype": "text/x-python",
   "name": "python",
   "nbconvert_exporter": "python",
   "pygments_lexer": "ipython3",
   "version": "3.5.0"
  }
 },
 "nbformat": 4,
 "nbformat_minor": 0
}
