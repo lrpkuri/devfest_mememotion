{
 "cells": [
  {
   "cell_type": "markdown",
   "metadata": {},
   "source": [
    "# ## Gets a screenshot every \"x\" seconds"
   ]
  },
  {
   "cell_type": "code",
   "execution_count": 10,
   "metadata": {
    "collapsed": false
   },
   "outputs": [
    {
     "name": "stdout",
     "output_type": "stream",
     "text": [
      "capture20160206_03_16_35.jpg\n",
      "capture20160206_03_16_36.jpg\n",
      "capture20160206_03_16_37.jpg\n",
      "capture20160206_03_16_39.jpg\n",
      "capture20160206_03_16_40.jpg\n",
      "capture20160206_03_16_41.jpg\n",
      "capture20160206_03_16_42.jpg\n",
      "capture20160206_03_16_43.jpg\n",
      "capture20160206_03_16_44.jpg\n",
      "capture20160206_03_16_45.jpg\n",
      "capture20160206_03_16_47.jpg\n",
      "capture20160206_03_16_48.jpg\n",
      "capture20160206_03_16_49.jpg\n",
      "capture20160206_03_16_50.jpg\n",
      "capture20160206_03_16_51.jpg\n",
      "capture20160206_03_16_52.jpg\n",
      "capture20160206_03_16_53.jpg\n",
      "capture20160206_03_16_54.jpg\n",
      "capture20160206_03_16_56.jpg\n"
     ]
    }
   ],
   "source": [
    "import pyscreenshot as ImageGrab\n",
    "import datetime\n",
    "import time\n",
    "\n",
    "for t in range(1,20):\n",
    "    current_time = datetime.datetime.now().strftime(\"%Y%m%d_%H_%M_%S\")\n",
    "    print('capture'+current_time+'.jpg')\n",
    "    im=ImageGrab.grab(bbox=(300,130,1180,630)) # X1,Y1,X2,Y2\n",
    "    im.save('capture'+current_time+'.jpg')\n",
    "    time.sleep(1)"
   ]
  },
  {
   "cell_type": "markdown",
   "metadata": {},
   "source": [
    "# ## Calls API to get Emotion Vector"
   ]
  },
  {
   "cell_type": "code",
   "execution_count": 26,
   "metadata": {
    "collapsed": false
   },
   "outputs": [
    {
     "name": "stdout",
     "output_type": "stream",
     "text": [
      "b'[{\"faceRectangle\":{\"height\":38,\"left\":48,\"top\":27,\"width\":38},\"scores\":{\"anger\":1.8977115E-08,\"contempt\":6.92382457E-07,\"disgust\":6.91794048E-06,\"fear\":3.43455353E-09,\"happiness\":0.99998194,\"neutral\":7.644299E-06,\"sadness\":2.76430774E-06,\"surprise\":1.86438154E-08}}]'\n"
     ]
    }
   ],
   "source": [
    "import http.client, urllib.request, urllib.parse, urllib.error, base64, json\n",
    "headers = {\n",
    "    # Request headers\n",
    "    'Content-Type': 'application/json',\n",
    "    'Ocp-Apim-Subscription-Key': '2750c64f4fcd4c398aac157a5d77c675',\n",
    "}\n",
    "body = {\n",
    "    'url': 'https://encrypted-tbn0.gstatic.com/images?q=tbn:ANd9GcQk0-sGWCvtyGz-RuW91CidTZOXHqDhofKQtgMNJQNlt06XSbJ9-uC3Gis',\n",
    "}\n",
    "params = urllib.parse.urlencode({\n",
    "    # Request parameters\n",
    "    'faceRectangles': '{string}',\n",
    "})\n",
    "try:\n",
    "    conn = http.client.HTTPSConnection('api.projectoxford.ai')\n",
    "    conn.request(\"POST\", \"/emotion/v1.0/recognize\", json.dumps(body), headers)\n",
    "    response = conn.getresponse()\n",
    "    data = response.read()\n",
    "    print(data)\n",
    "    conn.close()\n",
    "except Exception as e:\n",
    "#    print(\"[Errno {0}] {1}\".format(e.errno, e.strerror))\n",
    "    print(e.message)\n",
    "####################################"
   ]
  },
  {
   "cell_type": "code",
   "execution_count": 24,
   "metadata": {
    "collapsed": false
   },
   "outputs": [
    {
     "ename": "AttributeError",
     "evalue": "'UnicodeDecodeError' object has no attribute 'message'",
     "output_type": "error",
     "traceback": [
      "\u001b[1;31m---------------------------------------------------------------------------\u001b[0m",
      "\u001b[1;31mUnicodeDecodeError\u001b[0m                        Traceback (most recent call last)",
      "\u001b[1;32m<ipython-input-24-b5b9bddd1e9d>\u001b[0m in \u001b[0;36m<module>\u001b[1;34m()\u001b[0m\n\u001b[0;32m     16\u001b[0m     \u001b[0mconn\u001b[0m \u001b[1;33m=\u001b[0m \u001b[0mhttp\u001b[0m\u001b[1;33m.\u001b[0m\u001b[0mclient\u001b[0m\u001b[1;33m.\u001b[0m\u001b[0mHTTPSConnection\u001b[0m\u001b[1;33m(\u001b[0m\u001b[1;34m'api.projectoxford.ai'\u001b[0m\u001b[1;33m)\u001b[0m\u001b[1;33m\u001b[0m\u001b[0m\n\u001b[1;32m---> 17\u001b[1;33m     \u001b[0mconn\u001b[0m\u001b[1;33m.\u001b[0m\u001b[0mrequest\u001b[0m\u001b[1;33m(\u001b[0m\u001b[1;34m\"POST\"\u001b[0m\u001b[1;33m,\u001b[0m \u001b[1;34m\"/emotion/v1.0/recognize\"\u001b[0m\u001b[1;33m,\u001b[0m \u001b[0mbody\u001b[0m\u001b[1;33m,\u001b[0m \u001b[0mheaders\u001b[0m\u001b[1;33m)\u001b[0m\u001b[1;33m\u001b[0m\u001b[0m\n\u001b[0m\u001b[0;32m     18\u001b[0m     \u001b[0mresponse\u001b[0m \u001b[1;33m=\u001b[0m \u001b[0mconn\u001b[0m\u001b[1;33m.\u001b[0m\u001b[0mgetresponse\u001b[0m\u001b[1;33m(\u001b[0m\u001b[1;33m)\u001b[0m\u001b[1;33m\u001b[0m\u001b[0m\n",
      "\u001b[1;32mC:\\Anaconda3\\lib\\http\\client.py\u001b[0m in \u001b[0;36mrequest\u001b[1;34m(self, method, url, body, headers)\u001b[0m\n\u001b[0;32m   1087\u001b[0m         \u001b[1;34m\"\"\"Send a complete request to the server.\"\"\"\u001b[0m\u001b[1;33m\u001b[0m\u001b[0m\n\u001b[1;32m-> 1088\u001b[1;33m         \u001b[0mself\u001b[0m\u001b[1;33m.\u001b[0m\u001b[0m_send_request\u001b[0m\u001b[1;33m(\u001b[0m\u001b[0mmethod\u001b[0m\u001b[1;33m,\u001b[0m \u001b[0murl\u001b[0m\u001b[1;33m,\u001b[0m \u001b[0mbody\u001b[0m\u001b[1;33m,\u001b[0m \u001b[0mheaders\u001b[0m\u001b[1;33m)\u001b[0m\u001b[1;33m\u001b[0m\u001b[0m\n\u001b[0m\u001b[0;32m   1089\u001b[0m \u001b[1;33m\u001b[0m\u001b[0m\n",
      "\u001b[1;32mC:\\Anaconda3\\lib\\http\\client.py\u001b[0m in \u001b[0;36m_send_request\u001b[1;34m(self, method, url, body, headers)\u001b[0m\n\u001b[0;32m   1125\u001b[0m             \u001b[0mbody\u001b[0m \u001b[1;33m=\u001b[0m \u001b[0mbody\u001b[0m\u001b[1;33m.\u001b[0m\u001b[0mencode\u001b[0m\u001b[1;33m(\u001b[0m\u001b[1;34m'iso-8859-1'\u001b[0m\u001b[1;33m)\u001b[0m\u001b[1;33m\u001b[0m\u001b[0m\n\u001b[1;32m-> 1126\u001b[1;33m         \u001b[0mself\u001b[0m\u001b[1;33m.\u001b[0m\u001b[0mendheaders\u001b[0m\u001b[1;33m(\u001b[0m\u001b[0mbody\u001b[0m\u001b[1;33m)\u001b[0m\u001b[1;33m\u001b[0m\u001b[0m\n\u001b[0m\u001b[0;32m   1127\u001b[0m \u001b[1;33m\u001b[0m\u001b[0m\n",
      "\u001b[1;32mC:\\Anaconda3\\lib\\http\\client.py\u001b[0m in \u001b[0;36mendheaders\u001b[1;34m(self, message_body)\u001b[0m\n\u001b[0;32m   1083\u001b[0m             \u001b[1;32mraise\u001b[0m \u001b[0mCannotSendHeader\u001b[0m\u001b[1;33m(\u001b[0m\u001b[1;33m)\u001b[0m\u001b[1;33m\u001b[0m\u001b[0m\n\u001b[1;32m-> 1084\u001b[1;33m         \u001b[0mself\u001b[0m\u001b[1;33m.\u001b[0m\u001b[0m_send_output\u001b[0m\u001b[1;33m(\u001b[0m\u001b[0mmessage_body\u001b[0m\u001b[1;33m)\u001b[0m\u001b[1;33m\u001b[0m\u001b[0m\n\u001b[0m\u001b[0;32m   1085\u001b[0m \u001b[1;33m\u001b[0m\u001b[0m\n",
      "\u001b[1;32mC:\\Anaconda3\\lib\\http\\client.py\u001b[0m in \u001b[0;36m_send_output\u001b[1;34m(self, message_body)\u001b[0m\n\u001b[0;32m    925\u001b[0m             \u001b[1;31m# we must run the risk of Nagle.\u001b[0m\u001b[1;33m\u001b[0m\u001b[1;33m\u001b[0m\u001b[0m\n\u001b[1;32m--> 926\u001b[1;33m             \u001b[0mself\u001b[0m\u001b[1;33m.\u001b[0m\u001b[0msend\u001b[0m\u001b[1;33m(\u001b[0m\u001b[0mmessage_body\u001b[0m\u001b[1;33m)\u001b[0m\u001b[1;33m\u001b[0m\u001b[0m\n\u001b[0m\u001b[0;32m    927\u001b[0m \u001b[1;33m\u001b[0m\u001b[0m\n",
      "\u001b[1;32mC:\\Anaconda3\\lib\\http\\client.py\u001b[0m in \u001b[0;36msend\u001b[1;34m(self, data)\u001b[0m\n\u001b[0;32m    879\u001b[0m             \u001b[1;32mwhile\u001b[0m \u001b[1;36m1\u001b[0m\u001b[1;33m:\u001b[0m\u001b[1;33m\u001b[0m\u001b[0m\n\u001b[1;32m--> 880\u001b[1;33m                 \u001b[0mdatablock\u001b[0m \u001b[1;33m=\u001b[0m \u001b[0mdata\u001b[0m\u001b[1;33m.\u001b[0m\u001b[0mread\u001b[0m\u001b[1;33m(\u001b[0m\u001b[0mblocksize\u001b[0m\u001b[1;33m)\u001b[0m\u001b[1;33m\u001b[0m\u001b[0m\n\u001b[0m\u001b[0;32m    881\u001b[0m                 \u001b[1;32mif\u001b[0m \u001b[1;32mnot\u001b[0m \u001b[0mdatablock\u001b[0m\u001b[1;33m:\u001b[0m\u001b[1;33m\u001b[0m\u001b[0m\n",
      "\u001b[1;32mC:\\Anaconda3\\lib\\encodings\\cp1252.py\u001b[0m in \u001b[0;36mdecode\u001b[1;34m(self, input, final)\u001b[0m\n\u001b[0;32m     22\u001b[0m     \u001b[1;32mdef\u001b[0m \u001b[0mdecode\u001b[0m\u001b[1;33m(\u001b[0m\u001b[0mself\u001b[0m\u001b[1;33m,\u001b[0m \u001b[0minput\u001b[0m\u001b[1;33m,\u001b[0m \u001b[0mfinal\u001b[0m\u001b[1;33m=\u001b[0m\u001b[1;32mFalse\u001b[0m\u001b[1;33m)\u001b[0m\u001b[1;33m:\u001b[0m\u001b[1;33m\u001b[0m\u001b[0m\n\u001b[1;32m---> 23\u001b[1;33m         \u001b[1;32mreturn\u001b[0m \u001b[0mcodecs\u001b[0m\u001b[1;33m.\u001b[0m\u001b[0mcharmap_decode\u001b[0m\u001b[1;33m(\u001b[0m\u001b[0minput\u001b[0m\u001b[1;33m,\u001b[0m\u001b[0mself\u001b[0m\u001b[1;33m.\u001b[0m\u001b[0merrors\u001b[0m\u001b[1;33m,\u001b[0m\u001b[0mdecoding_table\u001b[0m\u001b[1;33m)\u001b[0m\u001b[1;33m[\u001b[0m\u001b[1;36m0\u001b[0m\u001b[1;33m]\u001b[0m\u001b[1;33m\u001b[0m\u001b[0m\n\u001b[0m\u001b[0;32m     24\u001b[0m \u001b[1;33m\u001b[0m\u001b[0m\n",
      "\u001b[1;31mUnicodeDecodeError\u001b[0m: 'charmap' codec can't decode byte 0x81 in position 251: character maps to <undefined>",
      "\nDuring handling of the above exception, another exception occurred:\n",
      "\u001b[1;31mAttributeError\u001b[0m                            Traceback (most recent call last)",
      "\u001b[1;32m<ipython-input-24-b5b9bddd1e9d>\u001b[0m in \u001b[0;36m<module>\u001b[1;34m()\u001b[0m\n\u001b[0;32m     22\u001b[0m \u001b[1;32mexcept\u001b[0m \u001b[0mException\u001b[0m \u001b[1;32mas\u001b[0m \u001b[0me\u001b[0m\u001b[1;33m:\u001b[0m\u001b[1;33m\u001b[0m\u001b[0m\n\u001b[0;32m     23\u001b[0m \u001b[1;31m#    print(\"[Errno {0}] {1}\".format(e.errno, e.strerror))\u001b[0m\u001b[1;33m\u001b[0m\u001b[1;33m\u001b[0m\u001b[0m\n\u001b[1;32m---> 24\u001b[1;33m     \u001b[0mprint\u001b[0m\u001b[1;33m(\u001b[0m\u001b[0me\u001b[0m\u001b[1;33m.\u001b[0m\u001b[0mmessage\u001b[0m\u001b[1;33m)\u001b[0m\u001b[1;33m\u001b[0m\u001b[0m\n\u001b[0m\u001b[0;32m     25\u001b[0m \u001b[1;33m\u001b[0m\u001b[0m\n\u001b[0;32m     26\u001b[0m \u001b[1;33m\u001b[0m\u001b[0m\n",
      "\u001b[1;31mAttributeError\u001b[0m: 'UnicodeDecodeError' object has no attribute 'message'"
     ]
    }
   ],
   "source": [
    "## Using a local image\n",
    "##TRYING\n",
    "from PIL import Image \n",
    "\n",
    "import http.client, urllib.request, urllib.parse, urllib.error, base64, json\n",
    "headers = {\n",
    "    'Content-Type': 'application/octet-stream',\n",
    "    'Ocp-Apim-Subscription-Key': '2750c64f4fcd4c398aac157a5d77c675',\n",
    "}\n",
    "body = open('.\\\\reactions\\\\pics\\\\frame_9_2.jpeg', 'r')\n",
    "\n",
    "params = urllib.parse.urlencode({\n",
    "    'faceRectangles': '{string}',\n",
    "})\n",
    "try:\n",
    "    conn = http.client.HTTPSConnection('api.projectoxford.ai')\n",
    "    conn.request(\"POST\", \"/emotion/v1.0/recognize\", body, headers)\n",
    "    response = conn.getresponse()\n",
    "    data = response.read()\n",
    "    print(data)\n",
    "    conn.close()\n",
    "except Exception as e:\n",
    "#    print(\"[Errno {0}] {1}\".format(e.errno, e.strerror))\n",
    "    print(e.message)\n",
    "\n",
    "\n",
    "\n"
   ]
  },
  {
   "cell_type": "markdown",
   "metadata": {
    "collapsed": true
   },
   "source": [
    "# ## Gets image frames from a video"
   ]
  },
  {
   "cell_type": "code",
   "execution_count": 21,
   "metadata": {
    "collapsed": false
   },
   "outputs": [
    {
     "name": "stdout",
     "output_type": "stream",
     "text": [
      ".\\reactions\\pics\\frame_1_0.jpeg\n",
      ".\\reactions\\pics\\frame_1_1.jpeg\n",
      ".\\reactions\\pics\\frame_1_2.jpeg\n",
      ".\\reactions\\pics\\frame_1_3.jpeg\n",
      ".\\reactions\\pics\\frame_2_0.jpeg\n",
      ".\\reactions\\pics\\frame_2_1.jpeg\n",
      ".\\reactions\\pics\\frame_2_2.jpeg\n",
      ".\\reactions\\pics\\frame_2_3.jpeg\n",
      ".\\reactions\\pics\\frame_2_4.jpeg\n",
      ".\\reactions\\pics\\frame_2_5.jpeg\n",
      ".\\reactions\\pics\\frame_3_0.jpeg\n",
      ".\\reactions\\pics\\frame_3_1.jpeg\n",
      ".\\reactions\\pics\\frame_3_2.jpeg\n",
      ".\\reactions\\pics\\frame_3_3.jpeg\n",
      ".\\reactions\\pics\\frame_3_4.jpeg\n",
      ".\\reactions\\pics\\frame_3_5.jpeg\n",
      ".\\reactions\\pics\\frame_3_6.jpeg\n",
      ".\\reactions\\pics\\frame_3_7.jpeg\n",
      ".\\reactions\\pics\\frame_3_8.jpeg\n",
      ".\\reactions\\pics\\frame_4_0.jpeg\n",
      ".\\reactions\\pics\\frame_4_1.jpeg\n",
      ".\\reactions\\pics\\frame_4_2.jpeg\n",
      ".\\reactions\\pics\\frame_4_3.jpeg\n",
      ".\\reactions\\pics\\frame_4_4.jpeg\n",
      ".\\reactions\\pics\\frame_4_5.jpeg\n",
      ".\\reactions\\pics\\frame_4_6.jpeg\n",
      ".\\reactions\\pics\\frame_4_7.jpeg\n",
      ".\\reactions\\pics\\frame_4_8.jpeg\n",
      ".\\reactions\\pics\\frame_4_9.jpeg\n",
      ".\\reactions\\pics\\frame_4_10.jpeg\n",
      ".\\reactions\\pics\\frame_4_11.jpeg\n",
      ".\\reactions\\pics\\frame_4_12.jpeg\n",
      ".\\reactions\\pics\\frame_4_13.jpeg\n",
      ".\\reactions\\pics\\frame_4_14.jpeg\n",
      ".\\reactions\\pics\\frame_4_15.jpeg\n",
      ".\\reactions\\pics\\frame_5_0.jpeg\n",
      ".\\reactions\\pics\\frame_5_1.jpeg\n",
      ".\\reactions\\pics\\frame_5_2.jpeg\n",
      ".\\reactions\\pics\\frame_5_3.jpeg\n",
      ".\\reactions\\pics\\frame_5_4.jpeg\n",
      ".\\reactions\\pics\\frame_6_0.jpeg\n",
      ".\\reactions\\pics\\frame_6_1.jpeg\n",
      ".\\reactions\\pics\\frame_6_2.jpeg\n",
      ".\\reactions\\pics\\frame_6_3.jpeg\n",
      ".\\reactions\\pics\\frame_6_4.jpeg\n",
      ".\\reactions\\pics\\frame_6_5.jpeg\n",
      ".\\reactions\\pics\\frame_6_6.jpeg\n",
      ".\\reactions\\pics\\frame_6_7.jpeg\n",
      ".\\reactions\\pics\\frame_6_8.jpeg\n",
      ".\\reactions\\pics\\frame_6_9.jpeg\n",
      ".\\reactions\\pics\\frame_6_10.jpeg\n",
      ".\\reactions\\pics\\frame_6_11.jpeg\n",
      ".\\reactions\\pics\\frame_6_12.jpeg\n",
      ".\\reactions\\pics\\frame_6_13.jpeg\n",
      ".\\reactions\\pics\\frame_6_14.jpeg\n",
      ".\\reactions\\pics\\frame_6_15.jpeg\n",
      ".\\reactions\\pics\\frame_6_16.jpeg\n",
      ".\\reactions\\pics\\frame_6_17.jpeg\n",
      ".\\reactions\\pics\\frame_6_18.jpeg\n",
      ".\\reactions\\pics\\frame_6_19.jpeg\n",
      ".\\reactions\\pics\\frame_7_0.jpeg\n",
      ".\\reactions\\pics\\frame_7_1.jpeg\n",
      ".\\reactions\\pics\\frame_7_2.jpeg\n",
      ".\\reactions\\pics\\frame_7_3.jpeg\n",
      ".\\reactions\\pics\\frame_7_4.jpeg\n",
      ".\\reactions\\pics\\frame_8_0.jpeg\n",
      ".\\reactions\\pics\\frame_8_1.jpeg\n",
      ".\\reactions\\pics\\frame_8_2.jpeg\n",
      ".\\reactions\\pics\\frame_8_3.jpeg\n",
      ".\\reactions\\pics\\frame_8_4.jpeg\n",
      ".\\reactions\\pics\\frame_9_0.jpeg\n",
      ".\\reactions\\pics\\frame_9_1.jpeg\n",
      ".\\reactions\\pics\\frame_9_2.jpeg\n",
      ".\\reactions\\pics\\frame_9_3.jpeg\n",
      ".\\reactions\\pics\\frame_9_4.jpeg\n",
      ".\\reactions\\pics\\frame_10_0.jpeg\n",
      ".\\reactions\\pics\\frame_10_1.jpeg\n",
      ".\\reactions\\pics\\frame_10_2.jpeg\n",
      ".\\reactions\\pics\\frame_10_3.jpeg\n",
      ".\\reactions\\pics\\frame_10_4.jpeg\n"
     ]
    },
    {
     "name": "stderr",
     "output_type": "stream",
     "text": [
      "Exception ignored in: <bound method VideoFileClip.__del__ of <moviepy.video.io.VideoFileClip.VideoFileClip object at 0x00000000007CD080>>\n",
      "Traceback (most recent call last):\n",
      "  File \"C:\\Anaconda3\\lib\\site-packages\\moviepy\\video\\io\\VideoFileClip.py\", line 86, in __del__\n",
      "    del self.reader\n",
      "AttributeError: reader\n"
     ]
    }
   ],
   "source": [
    "import os, sys\n",
    "from moviepy.editor import *\n",
    "#from IPython.display import Image\n",
    "import math\n",
    "from PIL import Image\n",
    "\n",
    "\n",
    "i = 1\n",
    "for video_filename in os.listdir('.\\\\reactions\\\\'):\n",
    "    try:\n",
    "        myclip = VideoFileClip('.\\\\reactions\\\\'+video_filename)\n",
    "        duration = math.trunc(myclip.duration)\n",
    "    except:\n",
    "        continue\n",
    "        \n",
    "    for t in range(duration+1):\n",
    "        photo_filename = \".\\\\reactions\\\\pics\\\\frame_\"+str(i)+\"_\"+str(t)+\".jpeg\"\n",
    "        print(photo_filename)\n",
    "        myclip.save_frame(photo_filename, '00:00:0'+str(t)) # frame at second t\n",
    "        im = Image.open(photo_filename)\n",
    "        out = im.transpose(Image.ROTATE_270)\n",
    "        out.save(photo_filename)\n",
    "    i=i+1"
   ]
  },
  {
   "cell_type": "code",
   "execution_count": null,
   "metadata": {
    "collapsed": true
   },
   "outputs": [],
   "source": []
  }
 ],
 "metadata": {
  "kernelspec": {
   "display_name": "Python 3",
   "language": "python",
   "name": "python3"
  },
  "language_info": {
   "codemirror_mode": {
    "name": "ipython",
    "version": 3
   },
   "file_extension": ".py",
   "mimetype": "text/x-python",
   "name": "python",
   "nbconvert_exporter": "python",
   "pygments_lexer": "ipython3",
   "version": "3.4.3"
  }
 },
 "nbformat": 4,
 "nbformat_minor": 0
}
